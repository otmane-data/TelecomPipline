{
 "cells": [
  {
   "cell_type": "code",
   "execution_count": 9,
   "id": "3a0fb5b5-e462-4923-8814-eae540d07642",
   "metadata": {},
   "outputs": [
    {
     "data": {
      "text/html": [
       "\n",
       "            <div>\n",
       "                <p><b>SparkSession - in-memory</b></p>\n",
       "                \n",
       "        <div>\n",
       "            <p><b>SparkContext</b></p>\n",
       "\n",
       "            <p><a href=\"http://67973bba7766:4040\">Spark UI</a></p>\n",
       "\n",
       "            <dl>\n",
       "              <dt>Version</dt>\n",
       "                <dd><code>v3.3.0</code></dd>\n",
       "              <dt>Master</dt>\n",
       "                <dd><code>local[*]</code></dd>\n",
       "              <dt>AppName</dt>\n",
       "                <dd><code>Streaming from spring-boot</code></dd>\n",
       "            </dl>\n",
       "        </div>\n",
       "        \n",
       "            </div>\n",
       "        "
      ],
      "text/plain": [
       "<pyspark.sql.session.SparkSession at 0x7f3ff900c3d0>"
      ]
     },
     "execution_count": 9,
     "metadata": {},
     "output_type": "execute_result"
    }
   ],
   "source": [
    "# cree une spark session\n",
    "from pyspark.sql import SparkSession\n",
    "\n",
    "\n",
    "spark = (\n",
    "    SparkSession \n",
    "    .builder \n",
    "    .appName(\"Streaming from spring-boot\") \n",
    "    .config(\"spark.streaming.stopGracefullyOnShutdown\", True) \n",
    "    .config('spark.jars.packages', 'org.apache.spark:spark-sql-kafka-0-10_2.12:3.3.0')\n",
    "    .config(\"spark.sql.shuffle.partitions\", 4)\n",
    "    .master(\"local[*]\") \n",
    "    .getOrCreate()\n",
    ")\n",
    "\n",
    "spark"
   ]
  },
  {
   "cell_type": "code",
   "execution_count": 10,
   "id": "475b967e-a4fb-442b-8ad9-e4995d071366",
   "metadata": {},
   "outputs": [],
   "source": [
    "# Create the kafka_df to read from kafka\n",
    "\n",
    "kafka_df = (\n",
    "    spark\n",
    "    .readStream\n",
    "    .format(\"kafka\")\n",
    "    .option(\"kafka.bootstrap.servers\", \"kafka:9092\")\n",
    "    .option(\"subscribe\", \"telecom_events\")\n",
    "    .option(\"failOnDataLoss\", \"false\")\n",
    "    .option(\"startingOffsets\", \"earliest\")\n",
    "    .load()\n",
    ")\n"
   ]
  },
  {
   "cell_type": "code",
   "execution_count": 11,
   "id": "f1157f77-8a3f-4545-845b-1af7933a5eb6",
   "metadata": {},
   "outputs": [
    {
     "name": "stdout",
     "output_type": "stream",
     "text": [
      "root\n",
      " |-- key: binary (nullable = true)\n",
      " |-- value: binary (nullable = true)\n",
      " |-- topic: string (nullable = true)\n",
      " |-- partition: integer (nullable = true)\n",
      " |-- offset: long (nullable = true)\n",
      " |-- timestamp: timestamp (nullable = true)\n",
      " |-- timestampType: integer (nullable = true)\n",
      "\n"
     ]
    }
   ],
   "source": [
    "kafka_df.printSchema()"
   ]
  },
  {
   "cell_type": "code",
   "execution_count": 44,
   "id": "aac982a8-650c-4361-9a3a-d07ac0b66955",
   "metadata": {},
   "outputs": [],
   "source": [
    "from pyspark.sql import SparkSession\n",
    "from pyspark.sql.functions import from_json, col, lower, trim, coalesce, lit, date_format, when, window,sum as _sum,round\n",
    "from pyspark.sql.types import *\n",
    "spark = SparkSession.builder \\\n",
    "    .appName(\"TelecomPipeline\") \\\n",
    "    .config(\"spark.jars\", \"jars/postgresql-42.2.27.jar\") \\\n",
    "    .getOrCreate()\n",
    "\n",
    "# Définir le schéma attendu\n",
    "schema = StructType([\n",
    "    StructField(\"event_id\", StringType()),\n",
    "    StructField(\"timestamp\", StringType()),\n",
    "    StructField(\"event_type\", StringType()),\n",
    "    StructField(\"user_id\", StringType()),\n",
    "    StructField(\"destination_id\", StringType()),\n",
    "    StructField(\"duration\", DoubleType()),\n",
    "    StructField(\"volume\", LongType()),\n",
    "    StructField(\"cell_id\", StringType()),\n",
    "    StructField(\"technology\", StringType()),\n",
    "    StructField(\"status\", StringType()),\n",
    "    StructField(\"error_code\", StringType())\n",
    "])\n",
    "# Lecture du topic Kafka\n",
    "kafka_df = spark.readStream \\\n",
    "    .format(\"kafka\") \\\n",
    "    .option(\"kafka.bootstrap.servers\", \"kafka:9092\") \\\n",
    "    .option(\"subscribe\", \"telecom_events\") \\\n",
    "    .load()\n",
    "\n",
    "\n",
    "# Convertir la colonne value\n",
    "json_df = kafka_df.selectExpr(\"CAST(value AS STRING)\") \\\n",
    "    .select(from_json(col(\"value\"), schema).alias(\"data\")) \\\n",
    "    .select(\"data.*\")\n"
   ]
  },
  {
   "cell_type": "code",
   "execution_count": 45,
   "id": "c621bb4f-418f-43ce-bb42-c31caf2f968b",
   "metadata": {},
   "outputs": [],
   "source": [
    "# Nettoyer et transformer les données\n",
    "clean_df = json_df \\\n",
    "    .withColumn(\"event_type\", lower(trim(col(\"event_type\")))) \\\n",
    "    .withColumn(\"status\", coalesce(col(\"status\"), lit(\"completed\"))) \\\n",
    "    .withColumn(\"timestamp\", col(\"timestamp\").cast(TimestampType())) \\\n",
    "    .filter(col(\"event_id\").isNotNull() & col(\"timestamp\").isNotNull())"
   ]
  },
  {
   "cell_type": "code",
   "execution_count": 46,
   "id": "1524b0e2-d43f-466c-95fc-4bd44b6ae199",
   "metadata": {},
   "outputs": [],
   "source": [
    "# Appliquer les règles tarifaires de base\n",
    "rated_df = clean_df.withColumn(\n",
    "    \"tarif\",\n",
    "     when(col(\"event_type\") == \"voice\", col(\"duration\") * 0.01)  # 0.01 €/seconde\n",
    "    .when(col(\"event_type\") == \"data\", (col(\"volume\") / 1024 / 1024) * 0.005)  # 0.005 €/Mo\n",
    "    .when(col(\"event_type\") == \"sms\", lit(0.1))  # 0.1 €/SMS\n",
    "    .otherwise(lit(0.0))\n",
    ").withColumn(\n",
    "    \"status_tarif\",\n",
    "    when(col(\"status\") == \"failed\", \"error\")  # Si l'événement a échoué, statut \"error\"\n",
    "    .when(col(\"tarif\") > 0, \"rated\")  # Si tarif > 0, statut \"rated\"\n",
    "    .otherwise(\"rejected\")  # Sinon, statut \"rejected\"\n",
    ")"
   ]
  },
  {
   "cell_type": "code",
   "execution_count": 48,
   "id": "549b7463-eec7-4259-9b3e-ef524eedbf92",
   "metadata": {},
   "outputs": [],
   "source": [
    "# Aggréger par client et par cycle de facturation (mois)\n",
    "billing_df = rated_df.withColumn(\n",
    "    \"cycle_facturation\",\n",
    "    date_format(col(\"timestamp\"), \"yyyy-MM\")\n",
    ").groupBy(\n",
    "    \"cycle_facturation\",\n",
    "    \"user_id\"\n",
    ").agg(\n",
    "    _sum(lit(1)).alias(\"nombre_total_evenements\"),\n",
    "    _sum(when(col(\"event_type\") == \"voice\", lit(1)).otherwise(lit(0))).alias(\"nombre_appels\"),\n",
    "    _sum(when(col(\"event_type\") == \"sms\", lit(1)).otherwise(lit(0))).alias(\"nombre_sms\"),\n",
    "    _sum(when(col(\"event_type\") == \"data\", lit(1)).otherwise(lit(0))).alias(\"nombre_donnees\"),\n",
    "    _sum(when(col(\"status_tarif\") == \"rated\", col(\"tarif\")).otherwise(lit(0))).alias(\"sous_total\")\n",
    ")\n",
    "\n",
    "# Appliquer les quotas gratuits (100 SMS inclus)\n",
    "billing_df = billing_df.withColumn(\n",
    "    \"sms_excedent\",\n",
    "    when(col(\"nombre_sms\") > 100, col(\"nombre_sms\") - 100).otherwise(lit(0))\n",
    ").withColumn(\n",
    "    \"tarif_sms_excedent\",\n",
    "    col(\"sms_excedent\") * 0.1\n",
    ").withColumn(\n",
    "    \"sous_total_ajuste\",\n",
    "    col(\"sous_total\") + col(\"tarif_sms_excedent\")\n",
    ")\n",
    "# Appliquer les remises\n",
    "billing_df = billing_df.withColumn(\n",
    "    \"remise\",\n",
    "    when(col(\"user_id\").endswith(\"0\"), col(\"sous_total_ajuste\") * 0.10)  # 10% fidélité\n",
    "    .when(col(\"user_id\").contains(\"student\"), col(\"sous_total_ajuste\") * 0.15)  # 15% étudiant\n",
    "    .when(col(\"cycle_facturation\") == \"2025-06\", col(\"sous_total_ajuste\") * 0.05)  # 5% saisonnier (juin 2025)\n",
    "    .otherwise(lit(0.0))\n",
    ").withColumn(\n",
    "    \"montant_avant_taxes\",\n",
    "    col(\"sous_total_ajuste\") - col(\"remise\")\n",
    ")\n",
    "\n",
    "# Appliquer les taxes\n",
    "billing_df = billing_df.withColumn(\n",
    "    \"tva\", col(\"montant_avant_taxes\") * 0.20  # 20% TVA\n",
    ").withColumn(\n",
    "    \"redevance\", lit(1.0)  # 1€ redevance fixe\n",
    ").withColumn(\n",
    "    \"montant_total\", round(col(\"montant_avant_taxes\") + col(\"tva\") + col(\"redevance\"), 2)\n",
    ")\n",
    "# Structurer la facture en JSON en français\n",
    "invoice_df = billing_df.selectExpr(\n",
    "    \"\"\"\n",
    "    to_json(struct(\n",
    "        user_id ,\n",
    "        cycle_facturation ,\n",
    "        nombre_total_evenements,\n",
    "        nombre_appels ,\n",
    "        nombre_sms AS ,\n",
    "        nombre_donnees ,\n",
    "        sms_excedent ,\n",
    "        sous_total ,\n",
    "        tarif_sms_excedent ,\n",
    "        sous_total_ajuste ,\n",
    "        remise ,\n",
    "        montant_avant_taxes ,\n",
    "        tva ,\n",
    "        redevance ,\n",
    "        montant_total\n",
    "    )) AS value\n",
    "\"\"\")"
   ]
  },
  {
   "cell_type": "code",
   "execution_count": null,
   "id": "365d1be0-64df-4064-8012-6ac4d9e96a93",
   "metadata": {},
   "outputs": [],
   "source": [
    "# Envoyer le flux des factures vers un topic Kafka\n",
    "query = invoice_df.writeStream \\\n",
    "    .format(\"kafka\") \\\n",
    "    .option(\"kafka.bootstrap.servers\", \"kafka:9092\") \\\n",
    "    .option(\"topic\", \"factures_telecom\") \\\n",
    "    .option(\"checkpointLocation\", \"/home/jovyan/checkpoints/factures\") \\\n",
    "    .outputMode(\"complete\") \\\n",
    "    .start()\n",
    "\n",
    "# Attendre la terminaison du flux\n",
    "query.awaitTermination()"
   ]
  },
  {
   "cell_type": "code",
   "execution_count": null,
   "id": "8a4727da-ade3-4fef-9e56-5ed944957c17",
   "metadata": {},
   "outputs": [],
   "source": []
  }
 ],
 "metadata": {
  "kernelspec": {
   "display_name": "Python 3 (ipykernel)",
   "language": "python",
   "name": "python3"
  },
  "language_info": {
   "codemirror_mode": {
    "name": "ipython",
    "version": 3
   },
   "file_extension": ".py",
   "mimetype": "text/x-python",
   "name": "python",
   "nbconvert_exporter": "python",
   "pygments_lexer": "ipython3",
   "version": "3.10.6"
  }
 },
 "nbformat": 4,
 "nbformat_minor": 5
}
